{
 "cells": [
  {
   "cell_type": "code",
   "execution_count": 1,
   "id": "5361e1c8",
   "metadata": {},
   "outputs": [],
   "source": [
    "import numpy as np\n",
    "import pandas as pd\n",
    "%matplotlib inline\n",
    "import matplotlib as mpl\n",
    "import matplotlib.pyplot as plt"
   ]
  },
  {
   "cell_type": "code",
   "execution_count": 2,
   "id": "8a0a7985",
   "metadata": {},
   "outputs": [
    {
     "name": "stderr",
     "output_type": "stream",
     "text": [
      "2024-01-18 13:10:13.755914: I tensorflow/core/platform/cpu_feature_guard.cc:182] This TensorFlow binary is optimized to use available CPU instructions in performance-critical operations.\n",
      "To enable the following instructions: AVX2 FMA, in other operations, rebuild TensorFlow with the appropriate compiler flags.\n"
     ]
    }
   ],
   "source": [
    "import tensorflow as tf\n",
    "import keras"
   ]
  },
  {
   "cell_type": "code",
   "execution_count": 5,
   "id": "59e26980",
   "metadata": {},
   "outputs": [],
   "source": [
    "fashion_mnist=keras.datasets.fashion_mnist\n",
    "(X_train_full,y_train_full) , (X_test,y_test) =fashion_mnist.load_data()"
   ]
  },
  {
   "cell_type": "code",
   "execution_count": 6,
   "id": "6b809f02",
   "metadata": {},
   "outputs": [],
   "source": [
    "class_names = [\"T-shirt/top\",\"Trouser\",\"Pullover\",\"Dress\",\"Coat\",\"Sandal\",\"Shirt\"\n",
    "              ,\"Sneaker\",\"Bag\",\"Ankle boot\"]"
   ]
  },
  {
   "cell_type": "markdown",
   "id": "7fd22570",
   "metadata": {},
   "source": [
    "## Data Reshape"
   ]
  },
  {
   "cell_type": "code",
   "execution_count": 7,
   "id": "7f9c4f4a",
   "metadata": {},
   "outputs": [],
   "source": [
    "X_train_full = X_train_full.reshape((60000 , 28,28,1))\n",
    "X_test = X_test.reshape((10000,28,28,1))"
   ]
  },
  {
   "cell_type": "markdown",
   "id": "8c7395bb",
   "metadata": {},
   "source": [
    "### Data normalization"
   ]
  },
  {
   "cell_type": "code",
   "execution_count": 8,
   "id": "6014c3e5",
   "metadata": {},
   "outputs": [],
   "source": [
    "X_train_n = X_train_full / 255\n",
    "X_test_n=X_test / 255"
   ]
  },
  {
   "cell_type": "markdown",
   "id": "c15bcc16",
   "metadata": {},
   "source": [
    "### Splitting data into train/validation/test"
   ]
  },
  {
   "cell_type": "code",
   "execution_count": 9,
   "id": "adb59229",
   "metadata": {},
   "outputs": [],
   "source": [
    "X_valid , X_train =X_train_n[:5000],X_train_n[5000:]\n",
    "y_valid , y_train =y_train_full[:5000], y_train_full[5000:]\n",
    "X_test = X_test_n"
   ]
  },
  {
   "cell_type": "markdown",
   "id": "352abd04",
   "metadata": {},
   "source": [
    "## Create the model architecture"
   ]
  },
  {
   "cell_type": "code",
   "execution_count": 10,
   "id": "0aa07f4c",
   "metadata": {},
   "outputs": [],
   "source": [
    "np.random.seed(42)\n",
    "tf.random.set_seed(42)"
   ]
  },
  {
   "cell_type": "code",
   "execution_count": 12,
   "id": "174abdb0",
   "metadata": {},
   "outputs": [],
   "source": [
    "model=keras.models.Sequential()\n",
    "model.add(keras.layers.Conv2D(filters=32,kernel_size=(3,3),strides=1,padding='valid',activation='relu',input_shape=(28,28,1)))\n",
    "model.add(keras.layers.MaxPooling2D((2,2)))\n",
    "\n",
    "model.add(keras.layers.Flatten())\n",
    "model.add(keras.layers.Dense(300,activation=\"relu\"))\n",
    "model.add(keras.layers.Dense(300,activation=\"relu\"))\n",
    "model.add(keras.layers.Dense(10,activation=\"softmax\"))"
   ]
  },
  {
   "cell_type": "code",
   "execution_count": 13,
   "id": "f23f0914",
   "metadata": {},
   "outputs": [
    {
     "name": "stdout",
     "output_type": "stream",
     "text": [
      "Model: \"sequential\"\n",
      "_________________________________________________________________\n",
      " Layer (type)                Output Shape              Param #   \n",
      "=================================================================\n",
      " conv2d (Conv2D)             (None, 26, 26, 32)        320       \n",
      "                                                                 \n",
      " max_pooling2d (MaxPooling2  (None, 13, 13, 32)        0         \n",
      " D)                                                              \n",
      "                                                                 \n",
      " flatten (Flatten)           (None, 5408)              0         \n",
      "                                                                 \n",
      " dense (Dense)               (None, 300)               1622700   \n",
      "                                                                 \n",
      " dense_1 (Dense)             (None, 300)               90300     \n",
      "                                                                 \n",
      " dense_2 (Dense)             (None, 10)                3010      \n",
      "                                                                 \n",
      "=================================================================\n",
      "Total params: 1716330 (6.55 MB)\n",
      "Trainable params: 1716330 (6.55 MB)\n",
      "Non-trainable params: 0 (0.00 Byte)\n",
      "_________________________________________________________________\n"
     ]
    }
   ],
   "source": [
    "model.summary()"
   ]
  },
  {
   "cell_type": "code",
   "execution_count": 14,
   "id": "3b792fe6",
   "metadata": {},
   "outputs": [],
   "source": [
    "model.compile(loss=\"sparse_categorical_crossentropy\",\n",
    "             optimizer=\"sgd\",\n",
    "             metrics=[\"accuracy\"])"
   ]
  },
  {
   "cell_type": "code",
   "execution_count": 16,
   "id": "2e142539",
   "metadata": {},
   "outputs": [
    {
     "name": "stdout",
     "output_type": "stream",
     "text": [
      "Epoch 1/30\n",
      "860/860 [==============================] - 27s 31ms/step - loss: 0.3390 - accuracy: 0.8784 - val_loss: 0.3757 - val_accuracy: 0.8616\n",
      "Epoch 2/30\n",
      "860/860 [==============================] - 27s 31ms/step - loss: 0.3279 - accuracy: 0.8811 - val_loss: 0.3439 - val_accuracy: 0.8754\n",
      "Epoch 3/30\n",
      "860/860 [==============================] - 25s 29ms/step - loss: 0.3188 - accuracy: 0.8837 - val_loss: 0.6185 - val_accuracy: 0.7772\n",
      "Epoch 4/30\n",
      "860/860 [==============================] - 28s 32ms/step - loss: 0.3095 - accuracy: 0.8878 - val_loss: 0.3333 - val_accuracy: 0.8796\n",
      "Epoch 5/30\n",
      "860/860 [==============================] - 24s 28ms/step - loss: 0.3029 - accuracy: 0.8892 - val_loss: 0.3178 - val_accuracy: 0.8850\n",
      "Epoch 6/30\n",
      "860/860 [==============================] - 26s 30ms/step - loss: 0.2926 - accuracy: 0.8937 - val_loss: 0.3014 - val_accuracy: 0.8930\n",
      "Epoch 7/30\n",
      "860/860 [==============================] - 28s 32ms/step - loss: 0.2858 - accuracy: 0.8975 - val_loss: 0.3447 - val_accuracy: 0.8798\n",
      "Epoch 8/30\n",
      "860/860 [==============================] - 26s 30ms/step - loss: 0.2794 - accuracy: 0.8981 - val_loss: 0.3816 - val_accuracy: 0.8616\n",
      "Epoch 9/30\n",
      "860/860 [==============================] - 29s 34ms/step - loss: 0.2736 - accuracy: 0.9001 - val_loss: 0.3063 - val_accuracy: 0.8880\n",
      "Epoch 10/30\n",
      "860/860 [==============================] - 30s 35ms/step - loss: 0.2673 - accuracy: 0.9029 - val_loss: 0.3056 - val_accuracy: 0.8882\n",
      "Epoch 11/30\n",
      "860/860 [==============================] - 27s 32ms/step - loss: 0.2608 - accuracy: 0.9044 - val_loss: 0.2878 - val_accuracy: 0.8960\n",
      "Epoch 12/30\n",
      "860/860 [==============================] - 29s 33ms/step - loss: 0.2548 - accuracy: 0.9080 - val_loss: 0.2814 - val_accuracy: 0.8968\n",
      "Epoch 13/30\n",
      "860/860 [==============================] - 24s 28ms/step - loss: 0.2511 - accuracy: 0.9086 - val_loss: 0.3037 - val_accuracy: 0.8934\n",
      "Epoch 14/30\n",
      "860/860 [==============================] - 25s 29ms/step - loss: 0.2463 - accuracy: 0.9099 - val_loss: 0.3337 - val_accuracy: 0.8758\n",
      "Epoch 15/30\n",
      "860/860 [==============================] - 24s 28ms/step - loss: 0.2406 - accuracy: 0.9121 - val_loss: 0.3529 - val_accuracy: 0.8734\n",
      "Epoch 16/30\n",
      "860/860 [==============================] - 26s 30ms/step - loss: 0.2364 - accuracy: 0.9139 - val_loss: 0.2659 - val_accuracy: 0.9020\n",
      "Epoch 17/30\n",
      "860/860 [==============================] - 25s 29ms/step - loss: 0.2308 - accuracy: 0.9151 - val_loss: 0.3666 - val_accuracy: 0.8720\n",
      "Epoch 18/30\n",
      "860/860 [==============================] - 27s 31ms/step - loss: 0.2274 - accuracy: 0.9166 - val_loss: 0.3251 - val_accuracy: 0.8884\n",
      "Epoch 19/30\n",
      "860/860 [==============================] - 28s 32ms/step - loss: 0.2235 - accuracy: 0.9186 - val_loss: 0.2852 - val_accuracy: 0.8954\n",
      "Epoch 20/30\n",
      "860/860 [==============================] - 25s 29ms/step - loss: 0.2193 - accuracy: 0.9204 - val_loss: 0.2864 - val_accuracy: 0.8992\n",
      "Epoch 21/30\n",
      "860/860 [==============================] - 26s 30ms/step - loss: 0.2147 - accuracy: 0.9222 - val_loss: 0.2625 - val_accuracy: 0.9036\n",
      "Epoch 22/30\n",
      "860/860 [==============================] - 25s 29ms/step - loss: 0.2102 - accuracy: 0.9230 - val_loss: 0.2628 - val_accuracy: 0.9058\n",
      "Epoch 23/30\n",
      "860/860 [==============================] - 25s 29ms/step - loss: 0.2060 - accuracy: 0.9243 - val_loss: 0.2592 - val_accuracy: 0.9084\n",
      "Epoch 24/30\n",
      "860/860 [==============================] - 27s 32ms/step - loss: 0.2020 - accuracy: 0.9259 - val_loss: 0.2750 - val_accuracy: 0.8998\n",
      "Epoch 25/30\n",
      "860/860 [==============================] - 27s 32ms/step - loss: 0.1984 - accuracy: 0.9271 - val_loss: 0.2703 - val_accuracy: 0.9062\n",
      "Epoch 26/30\n",
      "860/860 [==============================] - 26s 30ms/step - loss: 0.1959 - accuracy: 0.9289 - val_loss: 0.2536 - val_accuracy: 0.9110\n",
      "Epoch 27/30\n",
      "860/860 [==============================] - 23s 27ms/step - loss: 0.1926 - accuracy: 0.9293 - val_loss: 0.2505 - val_accuracy: 0.9106\n",
      "Epoch 28/30\n",
      "860/860 [==============================] - 25s 29ms/step - loss: 0.1882 - accuracy: 0.9311 - val_loss: 0.2846 - val_accuracy: 0.9022\n",
      "Epoch 29/30\n",
      "860/860 [==============================] - 24s 28ms/step - loss: 0.1845 - accuracy: 0.9328 - val_loss: 0.2565 - val_accuracy: 0.9102\n",
      "Epoch 30/30\n",
      "860/860 [==============================] - 25s 29ms/step - loss: 0.1816 - accuracy: 0.9345 - val_loss: 0.2547 - val_accuracy: 0.9090\n"
     ]
    }
   ],
   "source": [
    "model_history = model.fit(X_train,y_train,epochs=30, batch_size=64, validation_data=(X_valid,y_valid))"
   ]
  },
  {
   "cell_type": "code",
   "execution_count": 17,
   "id": "2623e6af",
   "metadata": {},
   "outputs": [
    {
     "data": {
      "image/png": "[encoded data removed]",
      "text/plain": [
       "<Figure size 800x500 with 1 Axes>"
      ]
     },
     "metadata": {},
     "output_type": "display_data"
    }
   ],
   "source": [
    "import pandas as pd\n",
    "\n",
    "pd.DataFrame(model_history.history).plot(figsize=(8,5))\n",
    "plt.grid(True)\n",
    "plt.gca().set_ylim(0,1)\n",
    "plt.show()"
   ]
  },
  {
   "cell_type": "code",
   "execution_count": 18,
   "id": "8dae34b5",
   "metadata": {},
   "outputs": [
    {
     "name": "stdout",
     "output_type": "stream",
     "text": [
      "313/313 [==============================] - 2s 6ms/step - loss: 0.2702 - accuracy: 0.9017\n"
     ]
    }
   ],
   "source": [
    "ev=model.evaluate(X_test_n,y_test)"
   ]
  },
  {
   "cell_type": "code",
   "execution_count": 19,
   "id": "ab6c9b61",
   "metadata": {},
   "outputs": [
    {
     "data": {
      "text/plain": [
       "[0.2701718509197235, 0.9017000198364258]"
      ]
     },
     "execution_count": 19,
     "metadata": {},
     "output_type": "execute_result"
    }
   ],
   "source": [
    "ev"
   ]
  },
  {
   "cell_type": "code",
   "execution_count": 20,
   "id": "92aabac7",
   "metadata": {},
   "outputs": [],
   "source": [
    "X_new=X_test[:3]"
   ]
  },
  {
   "cell_type": "code",
   "execution_count": 22,
   "id": "3286ccf3",
   "metadata": {},
   "outputs": [
    {
     "name": "stdout",
     "output_type": "stream",
     "text": [
      "1/1 [==============================] - 0s 117ms/step\n"
     ]
    },
    {
     "data": {
      "text/plain": [
       "array([[4.7856302e-06, 1.5537200e-06, 8.0213349e-06, 6.0258285e-06,\n",
       "        1.2931692e-05, 1.1481313e-03, 6.2289728e-06, 7.2138747e-03,\n",
       "        4.2621186e-04, 9.9117225e-01],\n",
       "       [3.8879789e-06, 2.1945855e-11, 9.9990416e-01, 8.5158280e-09,\n",
       "        8.0578277e-05, 2.2524068e-12, 1.1376126e-05, 1.4077631e-12,\n",
       "        6.4641133e-11, 6.0986990e-13],\n",
       "       [1.1103448e-07, 9.9999893e-01, 1.4635615e-09, 7.2570185e-07,\n",
       "        2.4433285e-07, 1.6888630e-09, 5.1749880e-09, 1.4648893e-11,\n",
       "        6.8827716e-10, 2.7390555e-11]], dtype=float32)"
      ]
     },
     "execution_count": 22,
     "metadata": {},
     "output_type": "execute_result"
    }
   ],
   "source": [
    "y_pred=model.predict(X_new)\n",
    "y_pred"
   ]
  },
  {
   "cell_type": "code",
   "execution_count": 23,
   "id": "a2e25fbf",
   "metadata": {},
   "outputs": [
    {
     "data": {
      "text/plain": [
       "array([9, 2, 1], dtype=uint8)"
      ]
     },
     "execution_count": 23,
     "metadata": {},
     "output_type": "execute_result"
    }
   ],
   "source": [
    "y_test[:3]"
   ]
  },
  {
   "cell_type": "code",
   "execution_count": 24,
   "id": "cedbc8b3",
   "metadata": {},
   "outputs": [
    {
     "name": "stdout",
     "output_type": "stream",
     "text": [
      "AxesImage(size=(28, 28))\n"
     ]
    },
    {
     "data": {
      "image/png": "[encoded data removed]",
      "text/plain": [
       "<Figure size 640x480 with 1 Axes>"
      ]
     },
     "metadata": {},
     "output_type": "display_data"
    }
   ],
   "source": [
    "print(plt.imshow(X_test[0].reshape((28,28))))"
   ]
  },
  {
   "cell_type": "code",
   "execution_count": 25,
   "id": "56bcaf16",
   "metadata": {},
   "outputs": [
    {
     "data": {
      "text/plain": [
       "<function keras.src.backend.clear_session()>"
      ]
     },
     "execution_count": 25,
     "metadata": {},
     "output_type": "execute_result"
    }
   ],
   "source": [
    "keras.backend.clear_session"
   ]
  },
  {
   "cell_type": "code",
   "execution_count": 26,
   "id": "694b5126",
   "metadata": {},
   "outputs": [],
   "source": [
    "del model"
   ]
  },
  {
   "cell_type": "code",
   "execution_count": null,
   "id": "0c77d8b1",
   "metadata": {},
   "outputs": [],
   "source": []
  },
  {
   "cell_type": "code",
   "execution_count": null,
   "id": "0105b99b",
   "metadata": {},
   "outputs": [],
   "source": []
  },
  {
   "cell_type": "markdown",
   "id": "f5606485",
   "metadata": {},
   "source": [
    "## Pooling vs No Pooling"
   ]
  },
  {
   "cell_type": "code",
   "execution_count": 27,
   "id": "2eda312c",
   "metadata": {},
   "outputs": [],
   "source": [
    "model_a = keras.models.Sequential()\n",
    "model_a.add(keras.layers.Conv2D(filters=32,kernel_size=(3,3),strides=1,padding='valid',activation='relu',input_shape=(28,28,1)))\n",
    "model_a.add(keras.layers.MaxPooling2D((2,2)))\n",
    "model_a.add(keras.layers.Flatten())\n",
    "model_a.add(keras.layers.Dense(300, activation=\"relu\"))\n",
    "model_a.add(keras.layers.Dense(100, activation=\"relu\"))\n",
    "model_a.add(keras.layers.Dense(10, activation=\"softmax\"))\n",
    "\n",
    "model_b = keras.models.Sequential()\n",
    "model_b.add(keras.layers.Conv2D(filters=32,kernel_size=(3,3),strides=1, padding='valid',activation='relu',input_shape=(28,28,1)))\n",
    "model_b.add(keras.layers.Flatten())\n",
    "model_b.add(keras.layers.Dense(300,activation=\"relu\"))\n",
    "model_b.add(keras.layers.Dense(100, activation=\"relu\"))\n",
    "model_b.add(keras.layers.Dense(10, activation=\"softmax\"))"
   ]
  },
  {
   "cell_type": "code",
   "execution_count": 28,
   "id": "c891e3ff",
   "metadata": {},
   "outputs": [
    {
     "name": "stdout",
     "output_type": "stream",
     "text": [
      "Model: \"sequential_1\"\n",
      "_________________________________________________________________\n",
      " Layer (type)                Output Shape              Param #   \n",
      "=================================================================\n",
      " conv2d_1 (Conv2D)           (None, 26, 26, 32)        320       \n",
      "                                                                 \n",
      " max_pooling2d_1 (MaxPoolin  (None, 13, 13, 32)        0         \n",
      " g2D)                                                            \n",
      "                                                                 \n",
      " flatten_1 (Flatten)         (None, 5408)              0         \n",
      "                                                                 \n",
      " dense_3 (Dense)             (None, 300)               1622700   \n",
      "                                                                 \n",
      " dense_4 (Dense)             (None, 100)               30100     \n",
      "                                                                 \n",
      " dense_5 (Dense)             (None, 10)                1010      \n",
      "                                                                 \n",
      "=================================================================\n",
      "Total params: 1654130 (6.31 MB)\n",
      "Trainable params: 1654130 (6.31 MB)\n",
      "Non-trainable params: 0 (0.00 Byte)\n",
      "_________________________________________________________________\n"
     ]
    }
   ],
   "source": [
    "model_a.summary()"
   ]
  },
  {
   "cell_type": "code",
   "execution_count": 29,
   "id": "8cd9ae20",
   "metadata": {},
   "outputs": [
    {
     "name": "stdout",
     "output_type": "stream",
     "text": [
      "Model: \"sequential_2\"\n",
      "_________________________________________________________________\n",
      " Layer (type)                Output Shape              Param #   \n",
      "=================================================================\n",
      " conv2d_2 (Conv2D)           (None, 26, 26, 32)        320       \n",
      "                                                                 \n",
      " flatten_2 (Flatten)         (None, 21632)             0         \n",
      "                                                                 \n",
      " dense_6 (Dense)             (None, 300)               6489900   \n",
      "                                                                 \n",
      " dense_7 (Dense)             (None, 100)               30100     \n",
      "                                                                 \n",
      " dense_8 (Dense)             (None, 10)                1010      \n",
      "                                                                 \n",
      "=================================================================\n",
      "Total params: 6521330 (24.88 MB)\n",
      "Trainable params: 6521330 (24.88 MB)\n",
      "Non-trainable params: 0 (0.00 Byte)\n",
      "_________________________________________________________________\n"
     ]
    }
   ],
   "source": [
    "model_b.summary()"
   ]
  },
  {
   "cell_type": "code",
   "execution_count": 30,
   "id": "ca0517dd",
   "metadata": {},
   "outputs": [],
   "source": [
    "model_a.compile(loss=\"sparse_categorical_crossentropy\",optimizer=\"sgd\",metrics=[\"accuracy\"])"
   ]
  },
  {
   "cell_type": "code",
   "execution_count": 31,
   "id": "80771cf2",
   "metadata": {},
   "outputs": [],
   "source": [
    "model_b.compile(loss=\"sparse_categorical_crossentropy\",optimizer=\"sgd\",metrics=[\"accuracy\"])"
   ]
  },
  {
   "cell_type": "code",
   "execution_count": 32,
   "id": "f7c11adb",
   "metadata": {},
   "outputs": [
    {
     "name": "stdout",
     "output_type": "stream",
     "text": [
      "Epoch 1/3\n",
      "860/860 [==============================] - 25s 28ms/step - loss: 0.8965 - accuracy: 0.6939 - val_loss: 0.7422 - val_accuracy: 0.7394\n",
      "Epoch 2/3\n",
      "860/860 [==============================] - 23s 27ms/step - loss: 0.5361 - accuracy: 0.8061 - val_loss: 0.4942 - val_accuracy: 0.8158\n",
      "Epoch 3/3\n",
      "860/860 [==============================] - 24s 27ms/step - loss: 0.4780 - accuracy: 0.8283 - val_loss: 0.9643 - val_accuracy: 0.6948\n"
     ]
    }
   ],
   "source": [
    "model_history_a=model_a.fit(X_train,y_train , epochs=3,batch_size=64,validation_data=(X_valid,y_valid))"
   ]
  },
  {
   "cell_type": "code",
   "execution_count": 34,
   "id": "a09654cc",
   "metadata": {},
   "outputs": [
    {
     "name": "stdout",
     "output_type": "stream",
     "text": [
      "Epoch 1/3\n",
      "860/860 [==============================] - 55s 63ms/step - loss: 0.7297 - accuracy: 0.7477 - val_loss: 0.7116 - val_accuracy: 0.7394\n",
      "Epoch 2/3\n",
      "860/860 [==============================] - 46s 54ms/step - loss: 0.4889 - accuracy: 0.8230 - val_loss: 0.4586 - val_accuracy: 0.8286\n",
      "Epoch 3/3\n",
      "860/860 [==============================] - 44s 51ms/step - loss: 0.4372 - accuracy: 0.8423 - val_loss: 1.0184 - val_accuracy: 0.6936\n"
     ]
    }
   ],
   "source": [
    "model_history_b=model_b.fit(X_train , y_train ,epochs=3,batch_size=64,validation_data=(X_valid, y_valid))"
   ]
  },
  {
   "cell_type": "code",
   "execution_count": null,
   "id": "ed50dc60",
   "metadata": {},
   "outputs": [],
   "source": []
  },
  {
   "cell_type": "code",
   "execution_count": null,
   "id": "dea57ac3",
   "metadata": {},
   "outputs": [],
   "source": []
  },
  {
   "cell_type": "code",
   "execution_count": null,
   "id": "0b148922",
   "metadata": {},
   "outputs": [],
   "source": []
  },
  {
   "cell_type": "code",
   "execution_count": null,
   "id": "4fdb1682",
   "metadata": {},
   "outputs": [],
   "source": []
  },
  {
   "cell_type": "code",
   "execution_count": null,
   "id": "b803ea9a",
   "metadata": {},
   "outputs": [],
   "source": []
  },
  {
   "cell_type": "code",
   "execution_count": null,
   "id": "abaedc19",
   "metadata": {},
   "outputs": [],
   "source": []
  }
 ],
 "metadata": {
  "kernelspec": {
   "display_name": "Python 3 (ipykernel)",
   "language": "python",
   "name": "python3"
  },
  "language_info": {
   "codemirror_mode": {
    "name": "ipython",
    "version": 3
   },
   "file_extension": ".py",
   "mimetype": "text/x-python",
   "name": "python",
   "nbconvert_exporter": "python",
   "pygments_lexer": "ipython3",
   "version": "3.11.5"
  }
 },
 "nbformat": 4,
 "nbformat_minor": 5
}
